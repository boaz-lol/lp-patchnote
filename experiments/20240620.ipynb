{
 "cells": [
  {
   "cell_type": "code",
   "execution_count": 7,
   "metadata": {},
   "outputs": [],
   "source": [
    "import pandas as pd\n",
    "from sklearn.model_selection import train_test_split, GridSearchCV\n",
    "from sklearn.preprocessing import StandardScaler, LabelEncoder\n",
    "from sklearn.metrics import accuracy_score, confusion_matrix, classification_report\n",
    "from sklearn.ensemble import ExtraTreesClassifier\n",
    "import pickle\n",
    "import os\n",
    "import mlflow\n",
    "import mlflow.sklearn\n",
    "from mlflow.models import infer_signature"
   ]
  },
  {
   "cell_type": "code",
   "execution_count": 2,
   "metadata": {},
   "outputs": [],
   "source": [
    "csv_file_path = \"/Users/hwanghyejeong/Documents/boaz/lp-patchnote/user_1_match_10.csv\"\n",
    "df = pd.read_csv(csv_file_path,index_col=0)"
   ]
  },
  {
   "cell_type": "code",
   "execution_count": 3,
   "metadata": {},
   "outputs": [],
   "source": [
    "X = df.drop(['win', 'match_id',\"puuid\"], axis=1)  \n",
    "encoder = LabelEncoder()\n",
    "X[\"role\"] = encoder.fit_transform(X['role'])\n",
    "scaler = StandardScaler() \n",
    "X = scaler.fit_transform(X)\n",
    "y = df['win']\n",
    "\n",
    "X_train, X_test, y_train, y_test = train_test_split(X, y, test_size=0.2, random_state=42)"
   ]
  },
  {
   "cell_type": "code",
   "execution_count": 4,
   "metadata": {},
   "outputs": [],
   "source": [
    "param_grid = {\n",
    "        'n_estimators': [100, 200, 300],\n",
    "        # 'max_depth': [None, 10, 20, 30],\n",
    "        # 'min_samples_split': [2, 5, 10],\n",
    "        # 'min_samples_leaf': [1, 2, 4],\n",
    "        # 'bootstrap': [True, False]\n",
    "    }"
   ]
  },
  {
   "cell_type": "code",
   "execution_count": 5,
   "metadata": {},
   "outputs": [],
   "source": [
    "mlflow.set_tracking_uri(uri=\"http://13.209.9.231:5000\")"
   ]
  },
  {
   "cell_type": "code",
   "execution_count": 8,
   "metadata": {},
   "outputs": [
    {
     "name": "stdout",
     "output_type": "stream",
     "text": [
      "Fitting 3 folds for each of 3 candidates, totalling 9 fits\n",
      "[CV] END ...................................n_estimators=100; total time=   0.0s\n",
      "[CV] END ...................................n_estimators=100; total time=   0.0s\n",
      "[CV] END ...................................n_estimators=100; total time=   0.1s\n",
      "[CV] END ...................................n_estimators=200; total time=   0.1s\n",
      "[CV] END ...................................n_estimators=200; total time=   0.1s\n",
      "[CV] END ...................................n_estimators=200; total time=   0.1s\n",
      "[CV] END ...................................n_estimators=300; total time=   0.1s\n",
      "[CV] END ...................................n_estimators=300; total time=   0.1s\n",
      "[CV] END ...................................n_estimators=300; total time=   0.1s\n",
      "Best parameters found:  {'n_estimators': 100}\n",
      "Accuracy: 0.8260869565217391\n",
      "Confusion Matrix:\n",
      "[[ 8  3]\n",
      " [ 1 11]]\n",
      "Classification Report:\n",
      "              precision    recall  f1-score   support\n",
      "\n",
      "       False       0.89      0.73      0.80        11\n",
      "        True       0.79      0.92      0.85        12\n",
      "\n",
      "    accuracy                           0.83        23\n",
      "   macro avg       0.84      0.82      0.82        23\n",
      "weighted avg       0.84      0.83      0.82        23\n",
      "\n"
     ]
    },
    {
     "name": "stderr",
     "output_type": "stream",
     "text": [
      "/Users/hwanghyejeong/.local/share/virtualenvs/lp-patchnote-D_OnX0DY/lib/python3.11/site-packages/_distutils_hack/__init__.py:11: UserWarning: Distutils was imported before Setuptools, but importing Setuptools also replaces the `distutils` module in `sys.modules`. This may lead to undesirable behaviors or errors. To avoid these issues, avoid using distutils directly, ensure that setuptools is installed in the traditional way (e.g. not an editable install), and/or make sure that setuptools is always imported before distutils.\n",
      "  warnings.warn(\n",
      "/Users/hwanghyejeong/.local/share/virtualenvs/lp-patchnote-D_OnX0DY/lib/python3.11/site-packages/_distutils_hack/__init__.py:26: UserWarning: Setuptools is replacing distutils.\n",
      "  warnings.warn(\"Setuptools is replacing distutils.\")\n",
      "Successfully registered model 'extra-test-0620'.\n",
      "2024/06/20 18:13:07 INFO mlflow.store.model_registry.abstract_store: Waiting up to 300 seconds for model version to finish creation. Model name: extra-test-0620, version 1\n",
      "Created version '1' of model 'extra-test-0620'.\n"
     ]
    }
   ],
   "source": [
    "with mlflow.start_run():\n",
    "    # Train model with GridSearchCV\n",
    "    model = ExtraTreesClassifier(random_state=42)\n",
    "    grid_search = GridSearchCV(estimator=model, param_grid=param_grid, cv=3, n_jobs=-1, verbose=2)\n",
    "    grid_search.fit(X_train, y_train)\n",
    "\n",
    "    # Best parameters from GridSearchCV\n",
    "    best_params = grid_search.best_params_\n",
    "    print(\"Best parameters found: \", best_params)\n",
    "\n",
    "    # Log best parameters\n",
    "    mlflow.log_params(best_params)\n",
    "\n",
    "    # Train model with best parameters\n",
    "    best_model = grid_search.best_estimator_\n",
    "    best_model.fit(X_train, y_train)\n",
    "\n",
    "    # Test Inference\n",
    "    y_pred = best_model.predict(X_test)\n",
    "    signature = infer_signature(X_train, best_model.predict(X_train))\n",
    "    \n",
    "    # Evaluate model\n",
    "    accuracy = accuracy_score(y_test, y_pred)\n",
    "    cm = confusion_matrix(y_test, y_pred)\n",
    "    cr = classification_report(y_test, y_pred)\n",
    "\n",
    "    print(\"Accuracy:\", accuracy)\n",
    "    print(\"Confusion Matrix:\")\n",
    "    print(cm)\n",
    "    print(\"Classification Report:\")\n",
    "    print(cr)\n",
    "\n",
    "    # Log metrics\n",
    "    mlflow.log_metric(\"accuracy\", accuracy)\n",
    "\n",
    "    mlflow.sklearn.log_model(\n",
    "        sk_model = best_model, \n",
    "        artifact_path = \"extra-forest\",\n",
    "        signature = signature,\n",
    "        input_example=X_train,\n",
    "        registered_model_name=\"extra-test-0620\"\n",
    "    )"
   ]
  }
 ],
 "metadata": {
  "kernelspec": {
   "display_name": "lp-patchnote-D_OnX0DY",
   "language": "python",
   "name": "python3"
  },
  "language_info": {
   "codemirror_mode": {
    "name": "ipython",
    "version": 3
   },
   "file_extension": ".py",
   "mimetype": "text/x-python",
   "name": "python",
   "nbconvert_exporter": "python",
   "pygments_lexer": "ipython3",
   "version": "3.11.7"
  }
 },
 "nbformat": 4,
 "nbformat_minor": 2
}
